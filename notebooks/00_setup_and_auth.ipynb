{
 "cells": [
  {
   "cell_type": "markdown",
   "metadata": {},
   "source": [
    "# 0. Project Setup and Authentication\n",
    "\n",
    "**Objective:** Configure the environment and authenticate with Google Cloud to access the MIMIC-III dataset on BigQuery.\n",
    "\n",
    "This notebook handles the necessary setup for running the project in both Google Colab and a local environment."
   ]
  },
  {
   "cell_type": "markdown",
   "metadata": {},
   "source": [
    "### 1. Import Libraries"
   ]
  },
  {
   "cell_type": "code",
   "execution_count": null,
   "metadata": {},
   "outputs": [],
   "source": [
    "from google.colab import auth\n",
    "from google.cloud import bigquery\n",
    "from google.colab import data_table\n",
    "\n",
    "# A robust way to check if we are in Google Colab\n",
    "try:\n",
    "    from google.colab import auth\n",
    "    IN_COLAB = True\n",
    "except ImportError:\n",
    "    IN_COLAB = False"
   ]
  },
  {
   "cell_type": "markdown",
   "metadata": {},
   "source": [
    "### 2. Configure Google Cloud Project"
   ]
  },
  {
   "cell_type": "code",
   "execution_count": null,
   "metadata": {},
   "outputs": [],
   "source": [
    "project_id = 'deep-atlas-413309' # Yair Bigquery Project ID\n",
    "# project_id = 'light-legend-457315-k3' # Lital Bigquery Project ID"
   ]
  },
  {
   "cell_type": "markdown",
   "metadata": {},
   "source": [
    "### 3. Authenticate and Initialize Client\n",
    "\n",
    "The following cell handles authentication. \n",
    "- **In Google Colab:** It will prompt you to authenticate with your Google account.\n",
    "- **Locally:** It will use the credentials from the `gcloud` CLI. If you haven't authenticated locally before, please run the following command in your terminal and follow the instructions:\n",
    "\n",
    "  ```bash\n",
    "  gcloud auth application-default login\n",
    "  ```"
   ]
  },
  {
   "cell_type": "code",
   "execution_count": null,
   "metadata": {},
   "outputs": [],
   "source": [
    "if IN_COLAB:\n",
    "    print(\"Authenticating in Google Colab...\")\n",
    "    auth.authenticate_user()\n",
    "else:\n",
    "    print(\"Using local Google Cloud SDK credentials.\")\n",
    "\n",
    "client = bigquery.Client(project=project_id)\n",
    "print(f\"BigQuery client initialized for project: {client.project}\")\n",
    "data_table.enable_dataframe_formatter()\n",
    "auth.authenticate_user()"
   ]
  },
  {
   "cell_type": "markdown",
   "metadata": {},
   "source": [
    "## Admissions"
   ]
  },
  {
   "cell_type": "code",
   "execution_count": null,
   "metadata": {},
   "outputs": [],
   "source": [
    "# @title Query DB\n",
    "hospquery = \\\n",
    "\"\"\"\n",
    "SELECT admissions.subject_id, admissions.hadm_id\n",
    ", admissions.admittime, admissions.dischtime\n",
    ", admissions.ethnicity, admissions.deathtime\n",
    ", admissions.insurance\n",
    ", patients.gender, patients.dob\n",
    "FROM `physionet-data.mimiciii_clinical.admissions` admissions\n",
    "INNER JOIN `physionet-data.mimiciii_clinical.patients` patients\n",
    "    ON admissions.subject_id = patients.subject_id\n",
    "WHERE admissions.has_chartevents_data = 1\n",
    "ORDER BY admissions.subject_id, admissions.hadm_id, admissions.admittime;\n",
    "\"\"\"\n",
    "hosps = client.query(hospquery).result().to_dataframe().rename(str.lower, axis='columns')\n",
    "hosps.head()"
   ]
  }
 ],
 "metadata": {
  "kernelspec": {
   "display_name": ".venv",
   "language": "python",
   "name": "python3"
  },
  "language_info": {
   "codemirror_mode": {
    "name": "ipython",
    "version": 3
   },
   "file_extension": ".py",
   "mimetype": "text/x-python",
   "name": "python",
   "nbconvert_exporter": "python",
   "pygments_lexer": "ipython3",
   "version": "3.12.0"
  }
 },
 "nbformat": 4,
 "nbformat_minor": 2
}
