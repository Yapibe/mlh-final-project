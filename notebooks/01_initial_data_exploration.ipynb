{
 "cells": [
  {
   "cell_type": "markdown",
   "metadata": {},
   "source": [
    "# 1. Initial Data Exploration\n",
    "\n",
    "**Objective:** Perform an initial exploratory data analysis (EDA) on the `initial_cohort.csv` data.\n",
    "\n",
    "**Goals:**\n",
    "1. Load the cohort data.\n",
    "2. Understand the distribution of patients.\n",
    "3. Join with other MIMIC-III tables to get a first look at the available data (demographics, admissions, etc.)."
   ]
  },
  {
   "cell_type": "code",
   "execution_count": null,
   "metadata": {},
   "outputs": [],
   "source": [
    "import pandas as pd\n",
    "import numpy as np\n",
    "import matplotlib.pyplot as plt\n",
    "import seaborn as sns\n",
    "\n",
    "# Set plot style\n",
    "sns.set_style('whitegrid')"
   ]
  },
  {
   "cell_type": "code",
   "execution_count": null,
   "metadata": {},
   "outputs": [],
   "source": [
    "# Load the initial cohort data\n",
    "cohort_df = pd.read_csv('../data/initial_cohort.csv')\n",
    "\n",
    "print(f\"Total number of patients in the cohort: {len(cohort_df)}\")\n",
    "cohort_df.head()"
   ]
  }
 ],
 "metadata": {
  "kernelspec": {
   "display_name": "Python 3",
   "language": "python",
   "name": "python3"
  },
  "language_info": {
   "codemirror_mode": {
    "name": "ipython",
    "version": 3
   },
   "file_extension": ".py",
   "mimetype": "text/x-python",
   "name": "python",
   "nbconvert_exporter": "python",
   "pygments_lexer": "ipython3",
   "version": "3.9.7"
  }
 },
 "nbformat": 4,
 "nbformat_minor": 4
}