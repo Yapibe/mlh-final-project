{
  "cells": [
    {
      "cell_type": "code",
      "execution_count": null,
      "metadata": {
        "colab": {
          "base_uri": "https://localhost:8080/",
          "height": 356
        },
        "id": "qP19wi6dA0cy",
        "outputId": "b4f3f060-d55e-45f0-d580-4ef16dc60a72"
      },
      "outputs": [],
      "source": [
        "import pandas as pd\n",
        "import numpy as np\n",
        "import pickle as pkl\n",
        "\n",
        "# Install duckdb\n",
        "!pip install duckdb --quiet\n",
        "import duckdb\n",
        "# Mount Google Drive\n",
        "from google.colab import drive\n",
        "drive.mount('/content/drive')\n",
        "\n",
        "from utils import load_file, sql_from_MIMICIII, age, ethnicity_to_ohe, generate_series_data, _word2pat, _map_drug_name_2_category, _site_from_specimen_type, split_data, data_norm, imputation_by_baseline, generate_series_data\n",
        "from config import get_config\n",
        "from sql import get_sql_queries\n",
        "from name_keywords import get_keywords_cat\n",
        "from preprocess_pipeline import preprocess_data\n",
        "\n",
        "config_dict = get_config()"
      ]
    },
    {
      "cell_type": "code",
      "execution_count": null,
      "metadata": {
        "colab": {
          "base_uri": "https://localhost:8080/"
        },
        "id": "BiKWn9NLH1FT",
        "outputId": "83dc05ce-abd5-4d95-c60e-953f388ca742"
      },
      "outputs": [],
      "source": [
        "# connect to MIMIC-III drive DB\n",
        "# for this to work we have to add a shortcut to MIMIC-III dir to given drive\n",
        "try:\n",
        "  con = duckdb.connect(f'{config_dict['data_paths']['DRIVE_PATH']}/{config_dict['data_paths']['MIMIC_DB_NAME']}')\n",
        "  print(\"Connection to MIMIC-III drive DB done successfuly.\")\n",
        "except:\n",
        "  print(\"Error: connection to MIMIC-III drive DB was unsuccessful.\")\n",
        "  print(\"Please ensure drive has a shortcut to MIMIC-III dir and that drive_path is correct.\")"
      ]
    },
    {
      "cell_type": "code",
      "execution_count": null,
      "metadata": {
        "colab": {
          "base_uri": "https://localhost:8080/"
        },
        "id": "LO2AO13kIViK",
        "outputId": "2a9e4fc4-966a-468e-cab6-cdad55dd15e0"
      },
      "outputs": [],
      "source": [
        "# load the initial cohort from the provided CSV file\n",
        "subject_ids = load_file(config_dict['data_paths']['DATA_PATH'], config_dict['data_paths']['INITIAL_COHORT'])\n",
        "if subject_ids is not None:\n",
        "  subject_ids = subject_ids['subject_id'].tolist()"
      ]
    },
    {
      "cell_type": "code",
      "execution_count": null,
      "metadata": {
        "colab": {
          "base_uri": "https://localhost:8080/",
          "height": 333,
          "referenced_widgets": [
            "cff9e9b4f3794824af792b396679ee41",
            "247b2e8ff3ea4ff4a8d99daffecbecf1",
            "ef8344323f7c48269e340a8600f3e2bc",
            "799dabd99668447a8d3ffb6526331401",
            "73c98835d1b84ff6a9c3664380b0191a",
            "0a3393b9d43e4f82bf1456b46c97d499",
            "56385614bb804f51bdfb827c920e40e6",
            "bd15864f847440a4aeaa8032abd68317",
            "b1a4516796424bb6820481cf7064c0c9",
            "22d061257ab5456c9c0b4dbb3555580e",
            "2c0342921c6c43ae9b0956fda1d55c1a",
            "72fa4107e91046ee8b2799fa4b3ac9c2",
            "f3d28c335ab34d10b7f0e034c414f1d5",
            "2c05c3bd6c6a48aeb9d08b5b147b0f80",
            "72cf2066ff49491e9555c7abcf409042"
          ]
        },
        "id": "UN2dYufvIYxR",
        "outputId": "0714cff6-df35-4249-e477-71015662a056"
      },
      "outputs": [],
      "source": [
        "df = preprocess_data(subject_ids, con)"
      ]
    },
    {
      "cell_type": "markdown",
      "metadata": {
        "id": "n9w2lv_OOBAX"
      },
      "source": [
        "# Target Definition and Partition"
      ]
    },
    {
      "cell_type": "code",
      "execution_count": null,
      "metadata": {
        "id": "tCk8tunaNd-z"
      },
      "outputs": [],
      "source": [
        "X = df.drop(columns=['hadm_id','dischtime','dod','dob','deathtime','mortality','prolonged_stay','readmission','sec_admittime'])\n",
        "y = df[['subject_id','mortality','prolonged_stay','readmission']]\n",
        "\n",
        "# split data into Train-Test-Validation (80%-20%-20%)\n",
        "X_train, y_train, X_test, y_test, X_val, y_val = split_data(X, y, df[\"subject_id\"])"
      ]
    },
    {
      "cell_type": "markdown",
      "metadata": {
        "id": "VZ1M4EJHOLUh"
      },
      "source": [
        "# Standardization and Imputation"
      ]
    },
    {
      "cell_type": "code",
      "execution_count": null,
      "metadata": {
        "colab": {
          "base_uri": "https://localhost:8080/"
        },
        "id": "EgomgXXPPsaY",
        "outputId": "c88b8b66-18fd-4f84-e01e-c7ffa778dd4b"
      },
      "outputs": [],
      "source": [
        "# excluding numerical but not continuous features (categorical and IDs)\n",
        "numeric_cols = X_train.select_dtypes(include='float').columns.tolist()\n",
        "numeric_cols = [c for c in numeric_cols if X_train[c].nunique() >= 10]\n",
        "\n",
        "# Standardization (fit scaler by TRAIN only)\n",
        "X_train, scaler = data_norm(X_train, numeric_cols, scaler=None)\n",
        "X_test, _ = data_norm(X_test, numeric_cols, scaler=scaler)\n",
        "X_val, _ = data_norm(X_val, numeric_cols, scaler=scaler)\n",
        "\n",
        "# Imputation by first‐day baseline (calc baseline by TRAIN only)\n",
        "X_train, baseline = imputation_by_baseline(X_train, numeric_cols, baseline=None)\n",
        "X_test, _ = imputation_by_baseline(X_test, numeric_cols, baseline=baseline)\n",
        "X_val, _ = imputation_by_baseline(X_val, numeric_cols, baseline=baseline)\n",
        "\n",
        "# other columns imputation by 0\n",
        "X_train, X_test, X_val = X_train.fillna(0), X_test.fillna(0), X_val.fillna(0)\n",
        "\n",
        "X_train = X_train.drop(columns='admittime').reset_index(drop=True)\n",
        "X_test = X_test.drop(columns='admittime').reset_index(drop=True)\n",
        "X_val = X_val.drop(columns='admittime').reset_index(drop=True)\n",
        "\n",
        "print(f\"train → X: {X_train.shape}, y: {y_train.shape}\")\n",
        "print(f\"val   → X: {X_val.shape},   y: {y_val.shape}\")\n",
        "print(f\"test  → X: {X_test.shape},  y: {y_test.shape}\")"
      ]
    },
    {
      "cell_type": "markdown",
      "metadata": {
        "id": "FLBkIj8TQ8Nv"
      },
      "source": [
        "# time series format"
      ]
    },
    {
      "cell_type": "code",
      "execution_count": null,
      "metadata": {
        "colab": {
          "base_uri": "https://localhost:8080/"
        },
        "id": "XG8Uj53XQ7Mk",
        "outputId": "65858497-26f4-42d6-8de4-62b0ab6850f2"
      },
      "outputs": [],
      "source": [
        "# Generate padded sequences + masks\n",
        "X_train_seq, y_train_seq, mask_train = generate_series_data(X_train, y_train, time_col=\"charttime\")\n",
        "X_val_seq, y_val_seq, mask_val = generate_series_data(X_val, y_val, time_col=\"charttime\")\n",
        "X_test_seq, y_test_seq, mask_test = generate_series_data(X_test, y_test, time_col=\"charttime\")\n",
        "\n",
        "print(\"Sequence shapes:\")\n",
        "print(\" X_train_seq:\", X_train_seq.shape, \" y_tarin_lables:\", y_train_seq.shape, \" mask:\", mask_train.shape)\n",
        "print(\" X_val_seq:  \", X_val_seq.shape, \" y_val_lables:\", y_val_seq.shape,\" mask:\", mask_val.shape)\n",
        "print(\" X_test_seq: \", X_test_seq.shape, \" y_test_lables:\", y_test_seq.shape,\" mask:\", mask_test.shape)"
      ]
    },
    {
      "cell_type": "markdown",
      "metadata": {
        "id": "Vl8U0ZomRRqP"
      },
      "source": [
        "# Save Data"
      ]
    },
    {
      "cell_type": "code",
      "execution_count": null,
      "metadata": {
        "id": "TbU8LhhpVuz8"
      },
      "outputs": [],
      "source": [
        "datasets = [(\"X_train_seq\", X_train_seq), (\"y_train_lables\", y_train_seq), (\"X_val_seq\", X_val_seq), (\"y_val_lables\", y_val_seq), (\"X_test_seq\", X_test_seq), (\"y_test_lables\", y_test_seq)]\n",
        "for name, data in datasets:\n",
        "  with open(f'data/{name}.pkl', 'wb') as handle:\n",
        "      pkl.dump(data, handle)\n",
        "\n",
        "train_features = df.drop(columns=['subject_id','mortality','prolonged_stay','readmission','hadm_id','dischtime','dod','dob','deathtime','charttime','sec_admittime','admittime']).columns.to_list()\n",
        "models_params_dict = {\"numeric_cols\":numeric_cols, \"scaler\": scaler, \"baseline\": baseline, \"train_features\" : train_features}\n",
        "with open(f'data/models_params_dict.pkl', 'wb') as handle:\n",
        "    pkl.dump(models_params_dict, handle)"
      ]
    }
  ],
  "metadata": {
    "colab": {
      "provenance": []
    },
    "kernelspec": {
      "display_name": ".venv",
      "language": "python",
      "name": "python3"
    },
    "language_info": {
      "codemirror_mode": {
        "name": "ipython",
        "version": 3
      },
      "file_extension": ".py",
      "mimetype": "text/x-python",
      "name": "python",
      "nbconvert_exporter": "python",
      "pygments_lexer": "ipython3",
      "version": "3.12.0"
    },
    "widgets": {
      "application/vnd.jupyter.widget-state+json": {
        "0a3393b9d43e4f82bf1456b46c97d499": {
          "model_module": "@jupyter-widgets/controls",
          "model_module_version": "1.5.0",
          "model_name": "ProgressStyleModel",
          "state": {
            "_model_module": "@jupyter-widgets/controls",
            "_model_module_version": "1.5.0",
            "_model_name": "ProgressStyleModel",
            "_view_count": null,
            "_view_module": "@jupyter-widgets/base",
            "_view_module_version": "1.2.0",
            "_view_name": "StyleView",
            "bar_color": "black",
            "description_width": ""
          }
        },
        "22d061257ab5456c9c0b4dbb3555580e": {
          "model_module": "@jupyter-widgets/controls",
          "model_module_version": "1.5.0",
          "model_name": "FloatProgressModel",
          "state": {
            "_dom_classes": [],
            "_model_module": "@jupyter-widgets/controls",
            "_model_module_version": "1.5.0",
            "_model_name": "FloatProgressModel",
            "_view_count": null,
            "_view_module": "@jupyter-widgets/controls",
            "_view_module_version": "1.5.0",
            "_view_name": "ProgressView",
            "bar_style": "",
            "description": "",
            "description_tooltip": null,
            "layout": "IPY_MODEL_2c0342921c6c43ae9b0956fda1d55c1a",
            "max": 100,
            "min": 0,
            "orientation": "horizontal",
            "style": "IPY_MODEL_72fa4107e91046ee8b2799fa4b3ac9c2",
            "value": 100
          }
        },
        "247b2e8ff3ea4ff4a8d99daffecbecf1": {
          "model_module": "@jupyter-widgets/base",
          "model_module_version": "1.2.0",
          "model_name": "LayoutModel",
          "state": {
            "_model_module": "@jupyter-widgets/base",
            "_model_module_version": "1.2.0",
            "_model_name": "LayoutModel",
            "_view_count": null,
            "_view_module": "@jupyter-widgets/base",
            "_view_module_version": "1.2.0",
            "_view_name": "LayoutView",
            "align_content": null,
            "align_items": null,
            "align_self": null,
            "border": null,
            "bottom": null,
            "display": null,
            "flex": null,
            "flex_flow": null,
            "grid_area": null,
            "grid_auto_columns": null,
            "grid_auto_flow": null,
            "grid_auto_rows": null,
            "grid_column": null,
            "grid_gap": null,
            "grid_row": null,
            "grid_template_areas": null,
            "grid_template_columns": null,
            "grid_template_rows": null,
            "height": null,
            "justify_content": null,
            "justify_items": null,
            "left": null,
            "margin": null,
            "max_height": null,
            "max_width": null,
            "min_height": null,
            "min_width": null,
            "object_fit": null,
            "object_position": null,
            "order": null,
            "overflow": null,
            "overflow_x": null,
            "overflow_y": null,
            "padding": null,
            "right": null,
            "top": null,
            "visibility": null,
            "width": "auto"
          }
        },
        "2c0342921c6c43ae9b0956fda1d55c1a": {
          "model_module": "@jupyter-widgets/base",
          "model_module_version": "1.2.0",
          "model_name": "LayoutModel",
          "state": {
            "_model_module": "@jupyter-widgets/base",
            "_model_module_version": "1.2.0",
            "_model_name": "LayoutModel",
            "_view_count": null,
            "_view_module": "@jupyter-widgets/base",
            "_view_module_version": "1.2.0",
            "_view_name": "LayoutView",
            "align_content": null,
            "align_items": null,
            "align_self": null,
            "border": null,
            "bottom": null,
            "display": null,
            "flex": null,
            "flex_flow": null,
            "grid_area": null,
            "grid_auto_columns": null,
            "grid_auto_flow": null,
            "grid_auto_rows": null,
            "grid_column": null,
            "grid_gap": null,
            "grid_row": null,
            "grid_template_areas": null,
            "grid_template_columns": null,
            "grid_template_rows": null,
            "height": null,
            "justify_content": null,
            "justify_items": null,
            "left": null,
            "margin": null,
            "max_height": null,
            "max_width": null,
            "min_height": null,
            "min_width": null,
            "object_fit": null,
            "object_position": null,
            "order": null,
            "overflow": null,
            "overflow_x": null,
            "overflow_y": null,
            "padding": null,
            "right": null,
            "top": null,
            "visibility": null,
            "width": "auto"
          }
        },
        "2c05c3bd6c6a48aeb9d08b5b147b0f80": {
          "model_module": "@jupyter-widgets/base",
          "model_module_version": "1.2.0",
          "model_name": "LayoutModel",
          "state": {
            "_model_module": "@jupyter-widgets/base",
            "_model_module_version": "1.2.0",
            "_model_name": "LayoutModel",
            "_view_count": null,
            "_view_module": "@jupyter-widgets/base",
            "_view_module_version": "1.2.0",
            "_view_name": "LayoutView",
            "align_content": null,
            "align_items": null,
            "align_self": null,
            "border": null,
            "bottom": null,
            "display": null,
            "flex": null,
            "flex_flow": null,
            "grid_area": null,
            "grid_auto_columns": null,
            "grid_auto_flow": null,
            "grid_auto_rows": null,
            "grid_column": null,
            "grid_gap": null,
            "grid_row": null,
            "grid_template_areas": null,
            "grid_template_columns": null,
            "grid_template_rows": null,
            "height": null,
            "justify_content": null,
            "justify_items": null,
            "left": null,
            "margin": null,
            "max_height": null,
            "max_width": null,
            "min_height": null,
            "min_width": null,
            "object_fit": null,
            "object_position": null,
            "order": null,
            "overflow": null,
            "overflow_x": null,
            "overflow_y": null,
            "padding": null,
            "right": null,
            "top": null,
            "visibility": null,
            "width": "auto"
          }
        },
        "56385614bb804f51bdfb827c920e40e6": {
          "model_module": "@jupyter-widgets/controls",
          "model_module_version": "1.5.0",
          "model_name": "FloatProgressModel",
          "state": {
            "_dom_classes": [],
            "_model_module": "@jupyter-widgets/controls",
            "_model_module_version": "1.5.0",
            "_model_name": "FloatProgressModel",
            "_view_count": null,
            "_view_module": "@jupyter-widgets/controls",
            "_view_module_version": "1.5.0",
            "_view_name": "ProgressView",
            "bar_style": "",
            "description": "",
            "description_tooltip": null,
            "layout": "IPY_MODEL_bd15864f847440a4aeaa8032abd68317",
            "max": 100,
            "min": 0,
            "orientation": "horizontal",
            "style": "IPY_MODEL_b1a4516796424bb6820481cf7064c0c9",
            "value": 84
          }
        },
        "72cf2066ff49491e9555c7abcf409042": {
          "model_module": "@jupyter-widgets/controls",
          "model_module_version": "1.5.0",
          "model_name": "ProgressStyleModel",
          "state": {
            "_model_module": "@jupyter-widgets/controls",
            "_model_module_version": "1.5.0",
            "_model_name": "ProgressStyleModel",
            "_view_count": null,
            "_view_module": "@jupyter-widgets/base",
            "_view_module_version": "1.2.0",
            "_view_name": "StyleView",
            "bar_color": "black",
            "description_width": ""
          }
        },
        "72fa4107e91046ee8b2799fa4b3ac9c2": {
          "model_module": "@jupyter-widgets/controls",
          "model_module_version": "1.5.0",
          "model_name": "ProgressStyleModel",
          "state": {
            "_model_module": "@jupyter-widgets/controls",
            "_model_module_version": "1.5.0",
            "_model_name": "ProgressStyleModel",
            "_view_count": null,
            "_view_module": "@jupyter-widgets/base",
            "_view_module_version": "1.2.0",
            "_view_name": "StyleView",
            "bar_color": "black",
            "description_width": ""
          }
        },
        "73c98835d1b84ff6a9c3664380b0191a": {
          "model_module": "@jupyter-widgets/base",
          "model_module_version": "1.2.0",
          "model_name": "LayoutModel",
          "state": {
            "_model_module": "@jupyter-widgets/base",
            "_model_module_version": "1.2.0",
            "_model_name": "LayoutModel",
            "_view_count": null,
            "_view_module": "@jupyter-widgets/base",
            "_view_module_version": "1.2.0",
            "_view_name": "LayoutView",
            "align_content": null,
            "align_items": null,
            "align_self": null,
            "border": null,
            "bottom": null,
            "display": null,
            "flex": null,
            "flex_flow": null,
            "grid_area": null,
            "grid_auto_columns": null,
            "grid_auto_flow": null,
            "grid_auto_rows": null,
            "grid_column": null,
            "grid_gap": null,
            "grid_row": null,
            "grid_template_areas": null,
            "grid_template_columns": null,
            "grid_template_rows": null,
            "height": null,
            "justify_content": null,
            "justify_items": null,
            "left": null,
            "margin": null,
            "max_height": null,
            "max_width": null,
            "min_height": null,
            "min_width": null,
            "object_fit": null,
            "object_position": null,
            "order": null,
            "overflow": null,
            "overflow_x": null,
            "overflow_y": null,
            "padding": null,
            "right": null,
            "top": null,
            "visibility": null,
            "width": "auto"
          }
        },
        "799dabd99668447a8d3ffb6526331401": {
          "model_module": "@jupyter-widgets/controls",
          "model_module_version": "1.5.0",
          "model_name": "FloatProgressModel",
          "state": {
            "_dom_classes": [],
            "_model_module": "@jupyter-widgets/controls",
            "_model_module_version": "1.5.0",
            "_model_name": "FloatProgressModel",
            "_view_count": null,
            "_view_module": "@jupyter-widgets/controls",
            "_view_module_version": "1.5.0",
            "_view_name": "ProgressView",
            "bar_style": "",
            "description": "",
            "description_tooltip": null,
            "layout": "IPY_MODEL_73c98835d1b84ff6a9c3664380b0191a",
            "max": 100,
            "min": 0,
            "orientation": "horizontal",
            "style": "IPY_MODEL_0a3393b9d43e4f82bf1456b46c97d499",
            "value": 59
          }
        },
        "b1a4516796424bb6820481cf7064c0c9": {
          "model_module": "@jupyter-widgets/controls",
          "model_module_version": "1.5.0",
          "model_name": "ProgressStyleModel",
          "state": {
            "_model_module": "@jupyter-widgets/controls",
            "_model_module_version": "1.5.0",
            "_model_name": "ProgressStyleModel",
            "_view_count": null,
            "_view_module": "@jupyter-widgets/base",
            "_view_module_version": "1.2.0",
            "_view_name": "StyleView",
            "bar_color": "black",
            "description_width": ""
          }
        },
        "bd15864f847440a4aeaa8032abd68317": {
          "model_module": "@jupyter-widgets/base",
          "model_module_version": "1.2.0",
          "model_name": "LayoutModel",
          "state": {
            "_model_module": "@jupyter-widgets/base",
            "_model_module_version": "1.2.0",
            "_model_name": "LayoutModel",
            "_view_count": null,
            "_view_module": "@jupyter-widgets/base",
            "_view_module_version": "1.2.0",
            "_view_name": "LayoutView",
            "align_content": null,
            "align_items": null,
            "align_self": null,
            "border": null,
            "bottom": null,
            "display": null,
            "flex": null,
            "flex_flow": null,
            "grid_area": null,
            "grid_auto_columns": null,
            "grid_auto_flow": null,
            "grid_auto_rows": null,
            "grid_column": null,
            "grid_gap": null,
            "grid_row": null,
            "grid_template_areas": null,
            "grid_template_columns": null,
            "grid_template_rows": null,
            "height": null,
            "justify_content": null,
            "justify_items": null,
            "left": null,
            "margin": null,
            "max_height": null,
            "max_width": null,
            "min_height": null,
            "min_width": null,
            "object_fit": null,
            "object_position": null,
            "order": null,
            "overflow": null,
            "overflow_x": null,
            "overflow_y": null,
            "padding": null,
            "right": null,
            "top": null,
            "visibility": null,
            "width": "auto"
          }
        },
        "cff9e9b4f3794824af792b396679ee41": {
          "model_module": "@jupyter-widgets/controls",
          "model_module_version": "1.5.0",
          "model_name": "FloatProgressModel",
          "state": {
            "_dom_classes": [],
            "_model_module": "@jupyter-widgets/controls",
            "_model_module_version": "1.5.0",
            "_model_name": "FloatProgressModel",
            "_view_count": null,
            "_view_module": "@jupyter-widgets/controls",
            "_view_module_version": "1.5.0",
            "_view_name": "ProgressView",
            "bar_style": "",
            "description": "",
            "description_tooltip": null,
            "layout": "IPY_MODEL_247b2e8ff3ea4ff4a8d99daffecbecf1",
            "max": 100,
            "min": 0,
            "orientation": "horizontal",
            "style": "IPY_MODEL_ef8344323f7c48269e340a8600f3e2bc",
            "value": 100
          }
        },
        "ef8344323f7c48269e340a8600f3e2bc": {
          "model_module": "@jupyter-widgets/controls",
          "model_module_version": "1.5.0",
          "model_name": "ProgressStyleModel",
          "state": {
            "_model_module": "@jupyter-widgets/controls",
            "_model_module_version": "1.5.0",
            "_model_name": "ProgressStyleModel",
            "_view_count": null,
            "_view_module": "@jupyter-widgets/base",
            "_view_module_version": "1.2.0",
            "_view_name": "StyleView",
            "bar_color": "black",
            "description_width": ""
          }
        },
        "f3d28c335ab34d10b7f0e034c414f1d5": {
          "model_module": "@jupyter-widgets/controls",
          "model_module_version": "1.5.0",
          "model_name": "FloatProgressModel",
          "state": {
            "_dom_classes": [],
            "_model_module": "@jupyter-widgets/controls",
            "_model_module_version": "1.5.0",
            "_model_name": "FloatProgressModel",
            "_view_count": null,
            "_view_module": "@jupyter-widgets/controls",
            "_view_module_version": "1.5.0",
            "_view_name": "ProgressView",
            "bar_style": "",
            "description": "",
            "description_tooltip": null,
            "layout": "IPY_MODEL_2c05c3bd6c6a48aeb9d08b5b147b0f80",
            "max": 100,
            "min": 0,
            "orientation": "horizontal",
            "style": "IPY_MODEL_72cf2066ff49491e9555c7abcf409042",
            "value": 100
          }
        }
      }
    }
  },
  "nbformat": 4,
  "nbformat_minor": 0
}
